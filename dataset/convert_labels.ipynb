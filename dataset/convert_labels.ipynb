{
 "cells": [
  {
   "cell_type": "code",
   "execution_count": 3,
   "metadata": {},
   "outputs": [],
   "source": [
    "import pandas as pd\n",
    "import os\n",
    "import numpy as np\n",
    "import cv2\n",
    "from tqdm import tqdm\n",
    "import json"
   ]
  },
  {
   "cell_type": "code",
   "execution_count": 4,
   "metadata": {},
   "outputs": [
    {
     "name": "stdout",
     "output_type": "stream",
     "text": [
      "{'other person', 'trailer', 'bicycle', 'traffic sign', 'rider', 'train', 'car', 'other vehicle', 'motorcycle', 'pedestrian', 'bus', 'truck', 'traffic light'}\n"
     ]
    }
   ],
   "source": [
    "# get the possible labels from bdd\n",
    "categories = set()\n",
    "\n",
    "with open('/home/ubuntu/huixiong/counter-training/dataset/bdd100k/ori_labels/det_20/det_train.json', 'r') as j:\n",
    "    bdd_labels = json.loads(j.read())\n",
    "for img in bdd_labels:\n",
    "    if 'labels' in img:\n",
    "        for label in img['labels']:\n",
    "            categories.add(label['category'])\n",
    "\n",
    "\n",
    "print(categories)"
   ]
  },
  {
   "cell_type": "code",
   "execution_count": 5,
   "metadata": {},
   "outputs": [
    {
     "name": "stdout",
     "output_type": "stream",
     "text": [
      "{'bicycle': 0, 'bus': 1, 'car': 2, 'motorcycle': 3, 'other person': 4, 'other vehicle': 5, 'pedestrian': 6, 'rider': 7, 'traffic light': 8, 'traffic sign': 9, 'trailer': 10, 'train': 11, 'truck': 12}\n"
     ]
    }
   ],
   "source": [
    "cls_mapping = {}\n",
    "lbl_mapping = {}\n",
    "\n",
    "for i, c in enumerate(sorted(categories)):\n",
    "    cls_mapping.update({c: i})\n",
    "    lbl_mapping.update({i: c})\n",
    "\n",
    "print(cls_mapping)"
   ]
  },
  {
   "cell_type": "code",
   "execution_count": 8,
   "metadata": {},
   "outputs": [
    {
     "name": "stderr",
     "output_type": "stream",
     "text": [
      "100%|██████████| 10000/10000 [01:54<00:00, 87.22it/s]\n"
     ]
    }
   ],
   "source": [
    "# pbar = tqdm(total=len(bdd_labels))\n",
    "\n",
    "cwd = '/home/ubuntu/huixiong/counter-training/dataset/bdd100k/yolo_labels/val/'\n",
    "img_path = '/home/ubuntu/huixiong/counter-training/dataset/bdd100k/images/100k/val/'\n",
    "pbar = tqdm(total=len(bdd_labels))\n",
    "\n",
    "for img in bdd_labels:\n",
    "\n",
    "    image = cv2.imread(img_path + img['name'], cv2.IMREAD_COLOR)\n",
    "    height, width, _ = image.shape\n",
    "\n",
    "    label_path = cwd + str(img['name']).strip('.jpg') + '.txt'\n",
    "\n",
    "    if 'labels' in img:\n",
    "        for l in img['labels']:\n",
    "            box = l['box2d']\n",
    "\n",
    "            if os.path.isfile(label_path):\n",
    "                with open(label_path, \"a+\") as f:\n",
    "                    f.write(f\"{cls_mapping[l['category']]} {((box['x1'] + box['x2']) / 2 / width):.6f} {((box['y2'] + box['y1']) / 2 / height):.6f} {((box['x2'] - box['x1']) / width):.6f} {((box['y2'] - box['y1']) / height):.6f} \\n\")\n",
    "            else:\n",
    "                with open(label_path, \"w+\") as f:\n",
    "                    f.write(f\"{cls_mapping[l['category']]} {((box['x1'] + box['x2']) / 2 / width):.6f} {((box['y2'] + box['y1']) / 2 / height):.6f} {((box['x2'] - box['x1']) / width):.6f} {((box['y2'] - box['y1']) / height):.6f} \\n\")\n",
    "    else:\n",
    "        f = open(label_path, 'w+')\n",
    "        f.close()\n",
    "    pbar.update(1)\n",
    "pbar.close()"
   ]
  },
  {
   "cell_type": "code",
   "execution_count": null,
   "metadata": {},
   "outputs": [],
   "source": []
  }
 ],
 "metadata": {
  "interpreter": {
   "hash": "31f2aee4e71d21fbe5cf8b01ff0e069b9275f58929596ceb00d14d90e3e16cd6"
  },
  "kernelspec": {
   "display_name": "Python 3.8.10 64-bit",
   "language": "python",
   "name": "python3"
  },
  "language_info": {
   "codemirror_mode": {
    "name": "ipython",
    "version": 3
   },
   "file_extension": ".py",
   "mimetype": "text/x-python",
   "name": "python",
   "nbconvert_exporter": "python",
   "pygments_lexer": "ipython3",
   "version": "3.8.10"
  },
  "orig_nbformat": 4
 },
 "nbformat": 4,
 "nbformat_minor": 2
}
