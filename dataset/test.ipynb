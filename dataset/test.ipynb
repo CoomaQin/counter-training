{
 "cells": [
  {
   "cell_type": "code",
   "execution_count": 1,
   "metadata": {},
   "outputs": [],
   "source": [
    "import os\n",
    "from matplotlib.patches import Rectangle\n",
    "import json\n",
    "from skimage import io, exposure\n",
    "import numpy as np\n",
    "from PIL import Image\n",
    "import matplotlib.pyplot as plt"
   ]
  },
  {
   "cell_type": "code",
   "execution_count": 2,
   "metadata": {},
   "outputs": [
    {
     "name": "stdout",
     "output_type": "stream",
     "text": [
      "70000\n"
     ]
    }
   ],
   "source": [
    "print(len([name for name in os.listdir('./bdd100k/images/100k/train/')]))"
   ]
  },
  {
   "cell_type": "code",
   "execution_count": 3,
   "metadata": {},
   "outputs": [
    {
     "data": {
      "text/plain": [
       "69863"
      ]
     },
     "execution_count": 3,
     "metadata": {},
     "output_type": "execute_result"
    }
   ],
   "source": [
    "# gather a thousand of these images and plot a bunch of boxes\n",
    "with open('/home/ubuntu/huixiong/counter-training/dataset/bdd100k/labels/det_20/det_train.json', 'r') as j:\n",
    "    labels = json.loads(j.read())\n",
    "len(labels)"
   ]
  },
  {
   "cell_type": "code",
   "execution_count": 4,
   "metadata": {},
   "outputs": [
    {
     "data": {
      "text/plain": [
       "1000"
      ]
     },
     "execution_count": 4,
     "metadata": {},
     "output_type": "execute_result"
    }
   ],
   "source": [
    "sampled_array = np.random.choice(labels, size=1000)\n",
    "len(sampled_array)"
   ]
  },
  {
   "cell_type": "code",
   "execution_count": 15,
   "metadata": {},
   "outputs": [
    {
     "name": "stderr",
     "output_type": "stream",
     "text": [
      "/home/ubuntu/.local/lib/python3.8/site-packages/skimage/io/_plugins/matplotlib_plugin.py:150: UserWarning: Low image data range; displaying image with stretched contrast.\n",
      "  lo, hi, cmap = _get_display_range(image)\n"
     ]
    }
   ],
   "source": [
    "for image_label in sampled_array:\n",
    "    img_path = './bdd100k/images/100k/train/' + image_label['name']\n",
    "\n",
    "    # read the image and convert\n",
    "    img = io.imread(img_path)\n",
    "    io.imshow(img)\n",
    "\n",
    "    # plot bounding boxes\n",
    "    ax = plt.gca()\n",
    "    labels = image_label['labels']\n",
    "    for l in labels:\n",
    "        box = l['box2d']\n",
    "        ax.add_patch(Rectangle((box['x1'], box['y1']), box['x2']-box['x1'], box['y2']-box['y1'], fill = False, edgecolor = 'red', linewidth = 1))\n",
    "    plt.savefig(\"./bdd100k/ground_truth/\" + image_label['name'])\n",
    "    plt.close('all')\n",
    "    # io.show()"
   ]
  }
 ],
 "metadata": {
  "interpreter": {
   "hash": "31f2aee4e71d21fbe5cf8b01ff0e069b9275f58929596ceb00d14d90e3e16cd6"
  },
  "kernelspec": {
   "display_name": "Python 3.8.10 64-bit",
   "language": "python",
   "name": "python3"
  },
  "language_info": {
   "codemirror_mode": {
    "name": "ipython",
    "version": 3
   },
   "file_extension": ".py",
   "mimetype": "text/x-python",
   "name": "python",
   "nbconvert_exporter": "python",
   "pygments_lexer": "ipython3",
   "version": "3.8.10"
  },
  "orig_nbformat": 4
 },
 "nbformat": 4,
 "nbformat_minor": 2
}
